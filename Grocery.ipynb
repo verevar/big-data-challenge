{
  "nbformat": 4,
  "nbformat_minor": 0,
  "metadata": {
    "colab": {
      "provenance": [],
      "authorship_tag": "ABX9TyPpc0d8GeRJ3B3N4q9w4RPC",
      "include_colab_link": true
    },
    "kernelspec": {
      "name": "python3",
      "display_name": "Python 3"
    },
    "language_info": {
      "name": "python"
    }
  },
  "cells": [
    {
      "cell_type": "markdown",
      "metadata": {
        "id": "view-in-github",
        "colab_type": "text"
      },
      "source": [
        "<a href=\"https://colab.research.google.com/github/verevar/big-data-challenge/blob/main/Grocery.ipynb\" target=\"_parent\"><img src=\"https://colab.research.google.com/assets/colab-badge.svg\" alt=\"Open In Colab\"/></a>"
      ]
    },
    {
      "cell_type": "code",
      "execution_count": 8,
      "metadata": {
        "colab": {
          "base_uri": "https://localhost:8080/"
        },
        "id": "_TQQ68eaooeA",
        "outputId": "548815b5-c09e-4c62-8cb5-e233be058680"
      },
      "outputs": [
        {
          "output_type": "stream",
          "name": "stdout",
          "text": [
            "\r0% [Working]\r            \rHit:1 http://security.ubuntu.com/ubuntu bionic-security InRelease\n",
            "Hit:2 https://cloud.r-project.org/bin/linux/ubuntu bionic-cran40/ InRelease\n",
            "Ign:3 https://developer.download.nvidia.com/compute/machine-learning/repos/ubuntu1804/x86_64  InRelease\n",
            "Hit:4 http://ppa.launchpad.net/c2d4u.team/c2d4u4.0+/ubuntu bionic InRelease\n",
            "Hit:5 https://developer.download.nvidia.com/compute/cuda/repos/ubuntu1804/x86_64  InRelease\n",
            "Hit:6 http://archive.ubuntu.com/ubuntu bionic InRelease\n",
            "Hit:7 https://developer.download.nvidia.com/compute/machine-learning/repos/ubuntu1804/x86_64  Release\n",
            "Hit:8 http://archive.ubuntu.com/ubuntu bionic-updates InRelease\n",
            "Hit:9 http://ppa.launchpad.net/cran/libgit2/ubuntu bionic InRelease\n",
            "Hit:10 http://archive.ubuntu.com/ubuntu bionic-backports InRelease\n",
            "Hit:11 http://ppa.launchpad.net/deadsnakes/ppa/ubuntu bionic InRelease\n",
            "Hit:12 http://ppa.launchpad.net/graphics-drivers/ppa/ubuntu bionic InRelease\n",
            "Reading package lists... Done\n"
          ]
        }
      ],
      "source": [
        "import os\n",
        "# Find the latest version of spark 3.0  from http://www.apache.org/dist/spark/ and enter as the spark version\n",
        "# For example:\n",
        "spark_version = 'spark-3.1.3'\n",
        "# spark_version = 'spark-3.<version number>'\n",
        "os.environ['SPARK_VERSION']=spark_version\n",
        "\n",
        "# Install Spark and Java\n",
        "!apt-get update\n",
        "!apt-get install openjdk-8-jdk-headless -qq > /dev/null\n",
        "!wget -q http://www.apache.org/dist/spark/$SPARK_VERSION/$SPARK_VERSION-bin-hadoop2.7.tgz\n",
        "!tar xf $SPARK_VERSION-bin-hadoop2.7.tgz\n",
        "!pip install -q findspark\n",
        "\n",
        "# Set Variables\n",
        "os.environ[\"JAVA_HOME\"] = \"/usr/lib/jvm/java-8-openjdk-amd64\"\n",
        "os.environ[\"SPARK_HOME\"] = f\"/content/{spark_version}-bin-hadoop2.7\"\n",
        "\n",
        "# Start a SparkSession\n",
        "import findspark\n",
        "findspark.init()"
      ]
    },
    {
      "cell_type": "code",
      "source": [
        "!wget https://jdbc.postgresql.org/download/postgresql-42.2.9.jar"
      ],
      "metadata": {
        "colab": {
          "base_uri": "https://localhost:8080/"
        },
        "id": "9kszjdEUo8-h",
        "outputId": "371eb540-6114-433e-aa29-bbddcb91a84f"
      },
      "execution_count": 9,
      "outputs": [
        {
          "output_type": "stream",
          "name": "stdout",
          "text": [
            "--2022-09-12 22:56:34--  https://jdbc.postgresql.org/download/postgresql-42.2.9.jar\n",
            "Resolving jdbc.postgresql.org (jdbc.postgresql.org)... 72.32.157.228, 2001:4800:3e1:1::228\n",
            "Connecting to jdbc.postgresql.org (jdbc.postgresql.org)|72.32.157.228|:443... connected.\n",
            "HTTP request sent, awaiting response... 200 OK\n",
            "Length: 914037 (893K) [application/java-archive]\n",
            "Saving to: ‘postgresql-42.2.9.jar.2’\n",
            "\n",
            "postgresql-42.2.9.j 100%[===================>] 892.61K  4.81MB/s    in 0.2s    \n",
            "\n",
            "2022-09-12 22:56:35 (4.81 MB/s) - ‘postgresql-42.2.9.jar.2’ saved [914037/914037]\n",
            "\n"
          ]
        }
      ]
    },
    {
      "cell_type": "code",
      "source": [
        "from pyspark.sql import SparkSession\n",
        "spark = SparkSession.builder.appName(\"Groceries\").config(\"spark.driver.extraClassPath\",\"/content/postgresql-42.2.9.jar\").getOrCreate()"
      ],
      "metadata": {
        "id": "pbRYpwsEpzsE"
      },
      "execution_count": 10,
      "outputs": []
    },
    {
      "cell_type": "code",
      "source": [
        "from pyspark import SparkFiles\n",
        "url = \"https://s3.amazonaws.com/amazon-reviews-pds/tsv/amazon_reviews_us_Grocery_v1_00.tsv.gz\"\n",
        "spark.sparkContext.addFile(url)"
      ],
      "metadata": {
        "id": "Znfv-X0xqMCt"
      },
      "execution_count": 11,
      "outputs": []
    },
    {
      "cell_type": "code",
      "source": [
        " grocery_df = spark.read.csv(SparkFiles.get(\"amazon_reviews_us_Grocery_v1_00.tsv.gz\"), sep=\"\\t\", header=True)\n",
        "\n",
        "#Show DataFrame\n",
        "grocery_df.show()"
      ],
      "metadata": {
        "colab": {
          "base_uri": "https://localhost:8080/"
        },
        "id": "cV5DeP_LsqqP",
        "outputId": "9e7e77b9-1192-41df-802b-1f02dd071e85"
      },
      "execution_count": 12,
      "outputs": [
        {
          "output_type": "stream",
          "name": "stdout",
          "text": [
            "+-----------+-----------+--------------+----------+--------------+--------------------+----------------+-----------+-------------+-----------+----+-----------------+--------------------+--------------------+-----------+\n",
            "|marketplace|customer_id|     review_id|product_id|product_parent|       product_title|product_category|star_rating|helpful_votes|total_votes|vine|verified_purchase|     review_headline|         review_body|review_date|\n",
            "+-----------+-----------+--------------+----------+--------------+--------------------+----------------+-----------+-------------+-----------+----+-----------------+--------------------+--------------------+-----------+\n",
            "|         US|   42521656|R26MV8D0KG6QI6|B000SAQCWC|     159713740|The Cravings Plac...|         Grocery|          5|            0|          0|   N|                Y|Using these for y...|As a family aller...| 2015-08-31|\n",
            "|         US|   12049833|R1OF8GP57AQ1A0|B00509LVIQ|     138680402|Mauna Loa Macadam...|         Grocery|          5|            0|          0|   N|                Y|           Wonderful|My favorite nut. ...| 2015-08-31|\n",
            "|         US|     107642|R3VDC1QB6MC4ZZ|B00KHXESLC|     252021703|Organic Matcha Gr...|         Grocery|          5|            0|          0|   N|                N|          Five Stars|This green tea ta...| 2015-08-31|\n",
            "|         US|    6042304|R12FA3DCF8F9ER|B000F8JIIC|     752728342|15oz Raspberry Ly...|         Grocery|          5|            0|          0|   N|                Y|          Five Stars|I love Melissa's ...| 2015-08-31|\n",
            "|         US|   18123821| RTWHVNV6X4CNJ|B004ZWR9RQ|     552138758|Stride Spark Kine...|         Grocery|          5|            0|          0|   N|                Y|          Five Stars|                good| 2015-08-31|\n",
            "|         US|   23649464| RIG9AWFOGRDVO|B00AL6QBZ6|     681475449|Herr's Popcorn Ho...|         Grocery|          2|            1|          1|   N|                Y|           Not Happy|The popcorn was s...| 2015-08-31|\n",
            "|         US|   32778285|R1S1XSG4ZCHDGS|B00BCNSTRA|     578681693|Larabar uber, 1.4...|         Grocery|          5|            1|          1|   N|                Y|          Five Stars|Love these bars, ...| 2015-08-31|\n",
            "|         US|   46612941| RB15NBVY5ELVW|B0089MM2BG|     350968436|Shirakiku Soba No...|         Grocery|          5|            2|          2|   N|                Y|          Five Stars|Love the taste bu...| 2015-08-31|\n",
            "|         US|   31525399| R56358YM1ZJ7I|B00Y1C9770|     729982780|Jif Chocolate Nut...|         Grocery|          5|            0|          0|   N|                N|      Great tasting!|I'm a member of t...| 2015-08-31|\n",
            "|         US|   19624355|R1ODXB3C9UP3NL|B00J074W94|       2499702|Orgain Organic Pl...|         Grocery|          1|            1|          3|   N|                N|Disgusting now an...|Used to be a dece...| 2015-08-31|\n",
            "|         US|   31910375|R155ZMVLD5C9BP|B0001VKKOO|     189938205|Bragg - All Natur...|         Grocery|          4|            3|          4|   N|                Y|If you like soy s...|I cannot tell the...| 2015-08-31|\n",
            "|         US|   12816533|R2IXW43PUNYM0G|B007TGH4CK|     398128262|Wholesome Sweeten...|         Grocery|          4|            1|          1|   N|                Y|          Four Stars|Good flavor and s...| 2015-08-31|\n",
            "|         US|   23208852|R3LYEG1QCK2BG0|B002HMN6SC|      18057786|Kadoya Pure Sesam...|         Grocery|          5|            0|          0|   N|                Y|          Five Stars|Great to use in r...| 2015-08-31|\n",
            "|         US|   17348415|R20LREICPM3YH0|B004NRHAZO|     595020880|Nishiki Premium B...|         Grocery|          5|            0|          0|   N|                Y|          Five Stars|It's rice. Have e...| 2015-08-31|\n",
            "|         US|   46763945| RHA5COCZDVB13|B00V7LJIG8|     173088090|Everly Passion Fr...|         Grocery|          5|            0|          0|   N|                Y|          Five Stars|Very good tasting...| 2015-08-31|\n",
            "|         US|     961747| RT9BGRQANMANE|B0000E2YFI|     120269621|Charms Blue Razzb...|         Grocery|          5|            0|          0|   N|                Y|           Excellent|They were perfect...| 2015-08-31|\n",
            "|         US|   16888081| ROD1TU5JCS7JQ|B00VK5SQOQ|     204992966|Food Should Taste...|         Grocery|          5|            0|          0|   N|                N|              YUMMY!|Wow, these are so...| 2015-08-31|\n",
            "|         US|   22765168|R3T6TTD2IN0EFZ|B00XDXMLL2|     971154239|Skippy Creamy Pea...|         Grocery|          1|            4|          4|   N|                N|1 Out Of 5 Of My ...|I bought this fro...| 2015-08-31|\n",
            "|         US|   36328996|R1OCUGZ444NKV3|B00MN4KX3A|     787182505|Celestial Seasoni...|         Grocery|          5|            5|          5|   N|                Y|delicious tea and...|I love this tea, ...| 2015-08-31|\n",
            "|         US|   27092724| RCQQGWTC4J4TZ|B004NTCE1M|     653570135|Nutiva Organic Vi...|         Grocery|          4|            0|          0|   N|                Y|    Best coconut oil|I have used servo...| 2015-08-31|\n",
            "+-----------+-----------+--------------+----------+--------------+--------------------+----------------+-----------+-------------+-----------+----+-----------------+--------------------+--------------------+-----------+\n",
            "only showing top 20 rows\n",
            "\n"
          ]
        }
      ]
    },
    {
      "cell_type": "code",
      "source": [
        "grocery_df = grocery_df.dropna()"
      ],
      "metadata": {
        "id": "PGlL834rugXo"
      },
      "execution_count": 13,
      "outputs": []
    },
    {
      "cell_type": "code",
      "source": [
        "grocery_df = grocery_df.dropDuplicates()"
      ],
      "metadata": {
        "id": "5IyqVLpaun8Z"
      },
      "execution_count": 14,
      "outputs": []
    },
    {
      "cell_type": "code",
      "source": [
        "#Count the number of records (rows) in the dataset.\n",
        "grocery_df.count()"
      ],
      "metadata": {
        "colab": {
          "base_uri": "https://localhost:8080/"
        },
        "id": "6xKQ0M1vtZwQ",
        "outputId": "111864ac-43c0-47bc-e661-e1df4ab94840"
      },
      "execution_count": 15,
      "outputs": [
        {
          "output_type": "execute_result",
          "data": {
            "text/plain": [
              "2402212"
            ]
          },
          "metadata": {},
          "execution_count": 15
        }
      ]
    },
    {
      "cell_type": "code",
      "source": [
        "# Be sure that the DataFrames match in data type and in column name.\n",
        "from pyspark.sql.types import * \n",
        "grocery_df = grocery_df.withColumn(\"customer_id\", grocery_df[\"customer_id\"].cast(IntegerType()))\\\n",
        "                          .withColumn(\"product_parent\", grocery_df[\"product_parent\"].cast(IntegerType()))\\\n",
        "                          .withColumn(\"star_rating\", grocery_df[\"star_rating\"].cast(IntegerType()))\\\n",
        "                          .withColumn(\"helpful_votes\", grocery_df[\"helpful_votes\"].cast(IntegerType()))\\\n",
        "                          .withColumn(\"total_votes\", grocery_df[\"total_votes\"].cast(IntegerType()))\\\n",
        "                          .withColumn(\"review_date\", grocery_df[\"review_date\"].cast(DateType()))"
      ],
      "metadata": {
        "id": "7RepkTuGvbTW"
      },
      "execution_count": 16,
      "outputs": []
    },
    {
      "cell_type": "code",
      "source": [
        "grocery_df.printSchema()"
      ],
      "metadata": {
        "colab": {
          "base_uri": "https://localhost:8080/"
        },
        "id": "OABQDTLjvnTm",
        "outputId": "e4e0b751-1567-44d0-b1c4-9f97d7e04cee"
      },
      "execution_count": 17,
      "outputs": [
        {
          "output_type": "stream",
          "name": "stdout",
          "text": [
            "root\n",
            " |-- marketplace: string (nullable = true)\n",
            " |-- customer_id: integer (nullable = true)\n",
            " |-- review_id: string (nullable = true)\n",
            " |-- product_id: string (nullable = true)\n",
            " |-- product_parent: integer (nullable = true)\n",
            " |-- product_title: string (nullable = true)\n",
            " |-- product_category: string (nullable = true)\n",
            " |-- star_rating: integer (nullable = true)\n",
            " |-- helpful_votes: integer (nullable = true)\n",
            " |-- total_votes: integer (nullable = true)\n",
            " |-- vine: string (nullable = true)\n",
            " |-- verified_purchase: string (nullable = true)\n",
            " |-- review_headline: string (nullable = true)\n",
            " |-- review_body: string (nullable = true)\n",
            " |-- review_date: date (nullable = true)\n",
            "\n"
          ]
        }
      ]
    },
    {
      "cell_type": "code",
      "source": [
        "review_id = grocery_df.select([\"review_id\", \"customer_id\", \"product_id\", \"product_parent\", \"review_date\"])\n",
        "review_id = review_id.dropDuplicates()\n",
        "review_id = review_id.dropna()\n",
        "review_id.show()"
      ],
      "metadata": {
        "colab": {
          "base_uri": "https://localhost:8080/"
        },
        "id": "q9wWajxqv08f",
        "outputId": "d10fb77b-8813-4d07-e631-3a8a72f4e0e9"
      },
      "execution_count": 21,
      "outputs": [
        {
          "output_type": "stream",
          "name": "stdout",
          "text": [
            "+--------------+-----------+----------+--------------+-----------+\n",
            "|     review_id|customer_id|product_id|product_parent|review_date|\n",
            "+--------------+-----------+----------+--------------+-----------+\n",
            "|R11C0U5T9MODT2|   29404388|B001EO7LVM|     698009410| 2015-01-15|\n",
            "|R131A73RHERLA1|   38349983|B001EQ5F9K|     802359601| 2011-06-29|\n",
            "|R14MILT1NQE7SD|   46987164|B0030F3LCQ|     169901314| 2015-06-11|\n",
            "|R1549CY2AKKRW0|   14427547|B001J3ZUQ6|     229167817| 2011-06-10|\n",
            "|R15ZYDVLQ4C65Y|   31810294|B00AO7HZWA|     493497653| 2014-11-30|\n",
            "|R17N83P9MCLENF|   37162088|B00061KXV4|      53038075| 2013-06-09|\n",
            "|R18LR4S8LVPFI0|   45812419|B000LKYMOO|     935764386| 2007-06-09|\n",
            "|R18SXC6ZP5KZ3H|   16407583|B001688E1C|     193521707| 2014-12-20|\n",
            "|R19O10L0UM794T|   26117265|B001HTKV1G|     333105984| 2013-07-12|\n",
            "|R1BQFX2VD64NKR|    9465074|B0009TMU0K|      61518983| 2015-03-10|\n",
            "|R1CDN8UXYTYWIA|   15503046|B000P4ZUB0|     756228435| 2012-02-08|\n",
            "|R1FTO5ZW74R2UK|   26748513|B0048KIQ90|     193554714| 2014-11-10|\n",
            "|R1G49D0KOUCOJ2|   42061125|B007PA30ZU|     945208649| 2013-12-31|\n",
            "|R1GKVQRFCU77EP|   13754944|B004NBDCD4|     484799870| 2013-07-15|\n",
            "|R1J6EIWP9MDMS8|   12580111|B001BH9624|     607326276| 2011-12-23|\n",
            "|R1LS7MADWRQ0OR|    2214263|B00J5WKJA0|     824889249| 2015-05-19|\n",
            "|R1P2M41JYSYON5|   17023923|B00BI0U4FW|     281216648| 2013-04-02|\n",
            "|R1Q8MJ62N0U9UW|   25046808|B000VZLH6U|     687118053| 2013-07-09|\n",
            "|R1RCD16W7AUZP3|   36387154|B001E5DRH8|       4932078| 2014-12-26|\n",
            "|R1T7P8Y25NK08W|   14771040|B00FO0NY2C|      15861579| 2014-04-30|\n",
            "+--------------+-----------+----------+--------------+-----------+\n",
            "only showing top 20 rows\n",
            "\n"
          ]
        }
      ]
    },
    {
      "cell_type": "code",
      "source": [
        "products_df = grocery_df.select([\"product_id\",\"product_title\"])\n",
        "products_df = products_df.dropDuplicates()\n",
        "products_df = products_df.dropna()\n",
        "\n",
        "products_df.show()"
      ],
      "metadata": {
        "colab": {
          "base_uri": "https://localhost:8080/"
        },
        "id": "HTUPBDBa4JcL",
        "outputId": "154986c9-0126-4ad7-c84b-8f8ef25b8354"
      },
      "execution_count": 20,
      "outputs": [
        {
          "output_type": "stream",
          "name": "stdout",
          "text": [
            "+----------+--------------------+\n",
            "|product_id|       product_title|\n",
            "+----------+--------------------+\n",
            "|B000N308RE|Tillamook Vintage...|\n",
            "|B0052UCCI6|Green Mountain Br...|\n",
            "|B006TU9EQ6|Raspberry Gourmet...|\n",
            "|B00CWTZCI2|Torani Sugar Free...|\n",
            "|B0005ZZ53C|Welch's Grape Sod...|\n",
            "|B00KSF4LZM|Angelino's Coffee...|\n",
            "|B009IQLTFW|Zevia All Natural...|\n",
            "|B0000SWZX2|Black Mountain Go...|\n",
            "|B0012X9CIK|Kettle Brand Krin...|\n",
            "|B000LL0R8I|Vita Coco Coconut...|\n",
            "|B00JBBX5UQ|Buffalo Bills Lol...|\n",
            "|B004N5FR06|Giant Reese’s Mil...|\n",
            "|B006TH3XXY|Vero Spicy Mango ...|\n",
            "|B002QWQGUS|Back to Nature Ma...|\n",
            "|B00GDGLDWE|trücup Low Acid C...|\n",
            "|B000MWVCQW|Emerald Nuts Chip...|\n",
            "|B005QQ1L10|White Lily All Pu...|\n",
            "|B00J3U4Y5A|Raw Organic Cacao...|\n",
            "|B00CVTFT2M|Kellogg's Special...|\n",
            "|B00EHVN1S6|Bragg Nutritional...|\n",
            "+----------+--------------------+\n",
            "only showing top 20 rows\n",
            "\n"
          ]
        }
      ]
    },
    {
      "cell_type": "code",
      "source": [
        "customer_id = grocery_df.groupby(\"customer_id\")\\\n",
        "              .agg({\"customer_id\": \"count\"})\\\n",
        "              .withColumnRenamed(\"count(customer_id)\", \"customer_count\")\n",
        "customer_id = customer_id.dropDuplicates()\n",
        "customer_id = customer_id.dropna()\n",
        "\n",
        "customer_id.show()"
      ],
      "metadata": {
        "colab": {
          "base_uri": "https://localhost:8080/"
        },
        "id": "OgPuaDUy8wvo",
        "outputId": "8ade0142-cc17-4a25-e1b6-42ec02a06922"
      },
      "execution_count": 24,
      "outputs": [
        {
          "output_type": "stream",
          "name": "stdout",
          "text": [
            "+-----------+--------------+\n",
            "|customer_id|customer_count|\n",
            "+-----------+--------------+\n",
            "|   19836511|             2|\n",
            "|   37859085|             1|\n",
            "|   48997737|            24|\n",
            "|   42319435|            83|\n",
            "|   19624806|             1|\n",
            "|   52218500|             3|\n",
            "|   50041220|             1|\n",
            "|   44714015|            12|\n",
            "|   27636670|             1|\n",
            "|   24133679|             2|\n",
            "|   35864889|            16|\n",
            "|   12250773|             1|\n",
            "|   16224491|             2|\n",
            "|    2761659|             4|\n",
            "|   49323498|             1|\n",
            "|   13788774|             1|\n",
            "|   25790304|             3|\n",
            "|   28528294|            38|\n",
            "|    2769839|             1|\n",
            "|   14299971|             7|\n",
            "+-----------+--------------+\n",
            "only showing top 20 rows\n",
            "\n"
          ]
        }
      ]
    },
    {
      "cell_type": "code",
      "source": [
        "columns = ['review_id', 'star_rating', 'helpful_votes', 'total_votes', 'vine']\n",
        "vine_table = grocery_df[[columns]]\n",
        "vine_table.show()"
      ],
      "metadata": {
        "colab": {
          "base_uri": "https://localhost:8080/"
        },
        "id": "QaoIRf1U9Znb",
        "outputId": "1d483df0-c972-4b52-8bf4-958172fb7249"
      },
      "execution_count": 26,
      "outputs": [
        {
          "output_type": "stream",
          "name": "stdout",
          "text": [
            "+--------------+-----------+-------------+-----------+----+\n",
            "|     review_id|star_rating|helpful_votes|total_votes|vine|\n",
            "+--------------+-----------+-------------+-----------+----+\n",
            "|R100KOICK3R3CF|          5|            0|          0|   N|\n",
            "|R100PWDLZSNOJE|          5|            0|          0|   N|\n",
            "|R10185C2H88C6O|          5|            0|          0|   N|\n",
            "|R102A21SZ34VPM|          5|            0|          0|   N|\n",
            "|R102A2XJDY3YPA|          1|            1|          1|   N|\n",
            "|R102ASTZMWUDN5|          5|            2|          2|   N|\n",
            "|R1038PDERZDPPA|          5|            0|          0|   N|\n",
            "|R104C1VFOOUG35|          5|           14|         15|   N|\n",
            "|R104HQ5X03UBJV|          5|            0|          0|   N|\n",
            "|R1050WCB1ADCLZ|          1|           75|         80|   N|\n",
            "|R1051UF4PE1RAM|          1|            0|          0|   N|\n",
            "|R1056E5M8D9VZD|          5|            0|          0|   N|\n",
            "|R105I0GFDTIXTV|          5|            2|          2|   N|\n",
            "|R105P0QQJXKAXZ|          5|            1|          1|   N|\n",
            "|R106GZNZ17XB7Q|          5|            1|          1|   N|\n",
            "|R106ME8DLYYERM|          1|            1|          1|   N|\n",
            "|R107L35M9FYNIM|          5|            1|          2|   N|\n",
            "|R108UXHU28JCK3|          5|            2|          2|   N|\n",
            "|R109JPTZI9W2XJ|          5|            0|          0|   N|\n",
            "|R109MQM5D9T05O|          5|            0|          0|   N|\n",
            "+--------------+-----------+-------------+-----------+----+\n",
            "only showing top 20 rows\n",
            "\n"
          ]
        }
      ]
    }
  ]
}