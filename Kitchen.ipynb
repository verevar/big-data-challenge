{
  "nbformat": 4,
  "nbformat_minor": 0,
  "metadata": {
    "colab": {
      "provenance": [],
      "authorship_tag": "ABX9TyPqr/xS0LfjKvScuROXkx+p",
      "include_colab_link": true
    },
    "kernelspec": {
      "name": "python3",
      "display_name": "Python 3"
    },
    "language_info": {
      "name": "python"
    }
  },
  "cells": [
    {
      "cell_type": "markdown",
      "metadata": {
        "id": "view-in-github",
        "colab_type": "text"
      },
      "source": [
        "<a href=\"https://colab.research.google.com/github/verevar/big-data-challenge/blob/main/Kitchen.ipynb\" target=\"_parent\"><img src=\"https://colab.research.google.com/assets/colab-badge.svg\" alt=\"Open In Colab\"/></a>"
      ]
    },
    {
      "cell_type": "code",
      "execution_count": 1,
      "metadata": {
        "colab": {
          "base_uri": "https://localhost:8080/"
        },
        "id": "_TQQ68eaooeA",
        "outputId": "090a2d48-3fc3-470b-8ed3-687ef85b0f10"
      },
      "outputs": [
        {
          "output_type": "stream",
          "name": "stdout",
          "text": [
            "Get:1 https://cloud.r-project.org/bin/linux/ubuntu bionic-cran40/ InRelease [3,626 B]\n",
            "Get:2 http://security.ubuntu.com/ubuntu bionic-security InRelease [88.7 kB]\n",
            "Ign:3 https://developer.download.nvidia.com/compute/machine-learning/repos/ubuntu1804/x86_64  InRelease\n",
            "Hit:4 https://developer.download.nvidia.com/compute/cuda/repos/ubuntu1804/x86_64  InRelease\n",
            "Get:5 http://ppa.launchpad.net/c2d4u.team/c2d4u4.0+/ubuntu bionic InRelease [15.9 kB]\n",
            "Hit:6 https://developer.download.nvidia.com/compute/machine-learning/repos/ubuntu1804/x86_64  Release\n",
            "Hit:7 http://archive.ubuntu.com/ubuntu bionic InRelease\n",
            "Get:9 http://archive.ubuntu.com/ubuntu bionic-updates InRelease [88.7 kB]\n",
            "Hit:10 http://ppa.launchpad.net/cran/libgit2/ubuntu bionic InRelease\n",
            "Hit:11 http://ppa.launchpad.net/deadsnakes/ppa/ubuntu bionic InRelease\n",
            "Get:12 http://security.ubuntu.com/ubuntu bionic-security/main amd64 Packages [2,965 kB]\n",
            "Get:13 http://archive.ubuntu.com/ubuntu bionic-backports InRelease [74.6 kB]\n",
            "Hit:14 http://ppa.launchpad.net/graphics-drivers/ppa/ubuntu bionic InRelease\n",
            "Get:15 http://archive.ubuntu.com/ubuntu bionic-updates/main amd64 Packages [3,397 kB]\n",
            "Get:16 http://ppa.launchpad.net/c2d4u.team/c2d4u4.0+/ubuntu bionic/main Sources [2,105 kB]\n",
            "Get:17 http://security.ubuntu.com/ubuntu bionic-security/universe amd64 Packages [1,540 kB]\n",
            "Get:18 http://archive.ubuntu.com/ubuntu bionic-updates/universe amd64 Packages [2,318 kB]\n",
            "Get:19 http://ppa.launchpad.net/c2d4u.team/c2d4u4.0+/ubuntu bionic/main amd64 Packages [1,079 kB]\n",
            "Fetched 13.7 MB in 6s (2,232 kB/s)\n",
            "Reading package lists... Done\n"
          ]
        }
      ],
      "source": [
        "import os\n",
        "# Find the latest version of spark 3.0  from http://www.apache.org/dist/spark/ and enter as the spark version\n",
        "# For example:\n",
        "spark_version = 'spark-3.1.3'\n",
        "# spark_version = 'spark-3.<version number>'\n",
        "os.environ['SPARK_VERSION']=spark_version\n",
        "\n",
        "# Install Spark and Java\n",
        "!apt-get update\n",
        "!apt-get install openjdk-8-jdk-headless -qq > /dev/null\n",
        "!wget -q http://www.apache.org/dist/spark/$SPARK_VERSION/$SPARK_VERSION-bin-hadoop2.7.tgz\n",
        "!tar xf $SPARK_VERSION-bin-hadoop2.7.tgz\n",
        "!pip install -q findspark\n",
        "\n",
        "# Set Variables\n",
        "os.environ[\"JAVA_HOME\"] = \"/usr/lib/jvm/java-8-openjdk-amd64\"\n",
        "os.environ[\"SPARK_HOME\"] = f\"/content/{spark_version}-bin-hadoop2.7\"\n",
        "\n",
        "# Start a SparkSession\n",
        "import findspark\n",
        "findspark.init()"
      ]
    },
    {
      "cell_type": "code",
      "source": [
        "!wget https://jdbc.postgresql.org/download/postgresql-42.2.9.jar"
      ],
      "metadata": {
        "colab": {
          "base_uri": "https://localhost:8080/"
        },
        "id": "9kszjdEUo8-h",
        "outputId": "3d5f0889-f0c4-4361-8c65-1fa6f262288c"
      },
      "execution_count": 2,
      "outputs": [
        {
          "output_type": "stream",
          "name": "stdout",
          "text": [
            "--2022-09-12 23:18:23--  https://jdbc.postgresql.org/download/postgresql-42.2.9.jar\n",
            "Resolving jdbc.postgresql.org (jdbc.postgresql.org)... 72.32.157.228, 2001:4800:3e1:1::228\n",
            "Connecting to jdbc.postgresql.org (jdbc.postgresql.org)|72.32.157.228|:443... connected.\n",
            "HTTP request sent, awaiting response... 200 OK\n",
            "Length: 914037 (893K) [application/java-archive]\n",
            "Saving to: ‘postgresql-42.2.9.jar’\n",
            "\n",
            "postgresql-42.2.9.j 100%[===================>] 892.61K  1.26MB/s    in 0.7s    \n",
            "\n",
            "2022-09-12 23:18:25 (1.26 MB/s) - ‘postgresql-42.2.9.jar’ saved [914037/914037]\n",
            "\n"
          ]
        }
      ]
    },
    {
      "cell_type": "code",
      "source": [
        "from pyspark.sql import SparkSession\n",
        "spark = SparkSession.builder.appName(\"Kitchen\").config(\"spark.driver.extraClassPath\",\"/content/postgresql-42.2.9.jar\").getOrCreate()"
      ],
      "metadata": {
        "id": "pbRYpwsEpzsE"
      },
      "execution_count": 3,
      "outputs": []
    },
    {
      "cell_type": "code",
      "source": [
        "from pyspark import SparkFiles\n",
        "url = \"https://s3.amazonaws.com/amazon-reviews-pds/tsv/amazon_reviews_us_Kitchen_v1_00.tsv.gz\"\n",
        "spark.sparkContext.addFile(url)"
      ],
      "metadata": {
        "id": "Znfv-X0xqMCt"
      },
      "execution_count": 4,
      "outputs": []
    },
    {
      "cell_type": "code",
      "source": [
        " kitchen_df = spark.read.csv(SparkFiles.get(\"amazon_reviews_us_Kitchen_v1_00.tsv.gz\"), sep=\"\\t\", header=True)\n",
        "\n",
        "#Show DataFrame\n",
        "kitchen_df.show()"
      ],
      "metadata": {
        "colab": {
          "base_uri": "https://localhost:8080/"
        },
        "id": "cV5DeP_LsqqP",
        "outputId": "34914d09-2fff-4c81-ec1f-b54921690934"
      },
      "execution_count": 7,
      "outputs": [
        {
          "output_type": "stream",
          "name": "stdout",
          "text": [
            "+-----------+-----------+--------------+----------+--------------+--------------------+----------------+-----------+-------------+-----------+----+-----------------+--------------------+--------------------+-----------+\n",
            "|marketplace|customer_id|     review_id|product_id|product_parent|       product_title|product_category|star_rating|helpful_votes|total_votes|vine|verified_purchase|     review_headline|         review_body|review_date|\n",
            "+-----------+-----------+--------------+----------+--------------+--------------------+----------------+-----------+-------------+-----------+----+-----------------+--------------------+--------------------+-----------+\n",
            "|         US|   37000337|R3DT59XH7HXR9K|B00303FI0G|     529320574|Arthur Court Pape...|         Kitchen|          5|            0|          0|   N|                Y|Beautiful. Looks ...|Beautiful.  Looks...| 2015-08-31|\n",
            "|         US|   15272914|R1LFS11BNASSU8|B00JCZKZN6|     274237558|Olde Thompson Bav...|         Kitchen|          5|            0|          1|   N|                Y| Awesome & Self-ness|I personally have...| 2015-08-31|\n",
            "|         US|   36137863|R296RT05AG0AF6|B00JLIKA5C|     544675303|Progressive Inter...|         Kitchen|          5|            0|          0|   N|                Y|Fabulous and wort...|Fabulous and wort...| 2015-08-31|\n",
            "|         US|   43311049|R3V37XDZ7ZCI3L|B000GBNB8G|     491599489|Zyliss Jumbo Garl...|         Kitchen|          5|            0|          1|   N|                Y|          Five Stars|A must if you lov...| 2015-08-31|\n",
            "|         US|   13763148|R14GU232NQFYX2|B00VJ5KX9S|     353790155|1 X Premier Pizza...|         Kitchen|          5|            0|          0|   N|                Y|     Better than sex|Worth every penny...| 2015-08-31|\n",
            "|         US|   19009420| RZQH4V7L2O1PL|B00HYB5YY0|     432241873|       CHEF Aluminum|         Kitchen|          1|            1|          1|   N|                Y|Does not work on ...|The description s...| 2015-08-31|\n",
            "|         US|   40599388|R1F8JMOSPJ3KO7|B000HEBAV2|     584680984|Presto Dual Profr...|         Kitchen|          5|            0|          0|   N|                Y|Awesome! First fr...|Awesome! First fr...| 2015-08-31|\n",
            "|         US|   22719359|R1ZISGY2BWW4Z5|B0012DS4GG|     772637306|Rubbermaid Produc...|         Kitchen|          5|            0|          0|   N|                Y|          Five Stars|Very good item. Q...| 2015-08-31|\n",
            "|         US|   47478640|R17PW4I3AE5WZW|B00FLQ4EE6|     755416578|Cuisinart 12-Piec...|         Kitchen|          5|            0|          0|   N|                Y|          Five Stars|sharp and look great| 2015-08-31|\n",
            "|         US|   34195504|R3D93G1KTP6A8P|B00DBS9OTG|     648762742|Kegco 6\" Stainles...|         Kitchen|          3|            0|          0|   N|                Y|         Three Stars|Should have come ...| 2015-08-31|\n",
            "|         US|   19100570|R18TQIW1NKPUNU|B00AN9UJ68|     495720940|Cuisinart Smart S...|         Kitchen|          5|            0|          0|   N|                Y|          Five Stars|  my friend loves it| 2015-08-31|\n",
            "|         US|   10299811|R34KUNL21WU248|B00L2P0KNO|      41330497|Searzall Torch At...|         Kitchen|          4|            0|          0|   N|                Y|          Four Stars|works as expected...| 2015-08-31|\n",
            "|         US|   32687006|R2YA1ZA53X12IN|B00NQOJQXY|     191893454|Wilton 1512-1664 ...|         Kitchen|          5|            0|          0|   N|                Y|               great|               great| 2015-08-31|\n",
            "|         US|   43260893|R2ZD1IGC9UU55X|B00080QE1Q|     277442428|Magnalite Classic...|         Kitchen|          5|            1|          1|   N|                Y|         Great Pots!|Fantastic product...| 2015-08-31|\n",
            "|         US|    8067227| R9J2YMVZTUVZ7|B009VU17ZM|     414077276|Sun's Tea(TM) 20o...|         Kitchen|          5|            0|          0|   N|                Y|          Five Stars|Work great, well ...| 2015-08-31|\n",
            "|         US|   18139929|R2UUXJ0WQR0CNI|B00MY71KO2|     138697457|Adventure Time Be...|         Kitchen|          4|            0|          0|   N|                Y|              So big|holds a loooot of...| 2015-08-31|\n",
            "|         US|   12282702|R3S9QICITG73JZ|B00A6N18CK|      48180946|DecoBros 3 Tier D...|         Kitchen|          5|            0|          0|   N|                Y|It looks nice & n...|The DecoBros K cu...| 2015-08-31|\n",
            "|         US|   38649737|R3LISNJHS64PDA|B00AB8NOLS|      67759108|Brita Water Filte...|         Kitchen|          4|            0|          0|   N|                Y|          Four Stars| Met my expectations| 2015-08-31|\n",
            "|         US|   33460969|R28RB82UG4RDD5|B00FB4UPA0|      10711472|Nifty Home 24 K-C...|         Kitchen|          5|           20|         20|   N|                Y| Saves counter space|Fits under my ful...| 2015-08-31|\n",
            "|         US|   40274860|R3H0PRVII5991X|B00YMHBQ0A|     618617346|Eoonfirst Snoopy ...|         Kitchen|          5|            0|          0|   N|                Y|          Five Stars|            Love it!| 2015-08-31|\n",
            "+-----------+-----------+--------------+----------+--------------+--------------------+----------------+-----------+-------------+-----------+----+-----------------+--------------------+--------------------+-----------+\n",
            "only showing top 20 rows\n",
            "\n"
          ]
        }
      ]
    },
    {
      "cell_type": "code",
      "source": [
        "kitchen_df = kitchen_df.dropna()"
      ],
      "metadata": {
        "id": "PGlL834rugXo"
      },
      "execution_count": 8,
      "outputs": []
    },
    {
      "cell_type": "code",
      "source": [
        "kitchen_df = kitchen_df.dropDuplicates()"
      ],
      "metadata": {
        "id": "5IyqVLpaun8Z"
      },
      "execution_count": 9,
      "outputs": []
    },
    {
      "cell_type": "code",
      "source": [
        "#Count the number of records (rows) in the dataset.\n",
        "kitchen_df.count()"
      ],
      "metadata": {
        "colab": {
          "base_uri": "https://localhost:8080/"
        },
        "id": "6xKQ0M1vtZwQ",
        "outputId": "2008c063-0ed4-4399-9674-6e766a818131"
      },
      "execution_count": 10,
      "outputs": [
        {
          "output_type": "execute_result",
          "data": {
            "text/plain": [
              "4879961"
            ]
          },
          "metadata": {},
          "execution_count": 10
        }
      ]
    },
    {
      "cell_type": "code",
      "source": [
        "# Be sure that the DataFrames match in data type and in column name.\n",
        "from pyspark.sql.types import * \n",
        "kitchen_df = kitchen_df.withColumn(\"customer_id\", kitchen_df[\"customer_id\"].cast(IntegerType()))\\\n",
        "                          .withColumn(\"product_parent\", kitchen_df[\"product_parent\"].cast(IntegerType()))\\\n",
        "                          .withColumn(\"star_rating\", kitchen_df[\"star_rating\"].cast(IntegerType()))\\\n",
        "                          .withColumn(\"helpful_votes\", kitchen_df[\"helpful_votes\"].cast(IntegerType()))\\\n",
        "                          .withColumn(\"total_votes\", kitchen_df[\"total_votes\"].cast(IntegerType()))\\\n",
        "                          .withColumn(\"review_date\", kitchen_df[\"review_date\"].cast(DateType()))"
      ],
      "metadata": {
        "id": "7RepkTuGvbTW"
      },
      "execution_count": 11,
      "outputs": []
    },
    {
      "cell_type": "code",
      "source": [
        "kitchen_df.printSchema()"
      ],
      "metadata": {
        "colab": {
          "base_uri": "https://localhost:8080/"
        },
        "id": "OABQDTLjvnTm",
        "outputId": "fb2b41b5-a2d9-479c-82c8-aa7a0bbde79c"
      },
      "execution_count": 12,
      "outputs": [
        {
          "output_type": "stream",
          "name": "stdout",
          "text": [
            "root\n",
            " |-- marketplace: string (nullable = true)\n",
            " |-- customer_id: integer (nullable = true)\n",
            " |-- review_id: string (nullable = true)\n",
            " |-- product_id: string (nullable = true)\n",
            " |-- product_parent: integer (nullable = true)\n",
            " |-- product_title: string (nullable = true)\n",
            " |-- product_category: string (nullable = true)\n",
            " |-- star_rating: integer (nullable = true)\n",
            " |-- helpful_votes: integer (nullable = true)\n",
            " |-- total_votes: integer (nullable = true)\n",
            " |-- vine: string (nullable = true)\n",
            " |-- verified_purchase: string (nullable = true)\n",
            " |-- review_headline: string (nullable = true)\n",
            " |-- review_body: string (nullable = true)\n",
            " |-- review_date: date (nullable = true)\n",
            "\n"
          ]
        }
      ]
    },
    {
      "cell_type": "code",
      "source": [
        "review_id = kitchen_df.select([\"review_id\", \"customer_id\", \"product_id\", \"product_parent\", \"review_date\"])\n",
        "review_id = review_id.dropDuplicates()\n",
        "review_id = review_id.dropna()\n",
        "review_id.show()"
      ],
      "metadata": {
        "colab": {
          "base_uri": "https://localhost:8080/"
        },
        "id": "q9wWajxqv08f",
        "outputId": "7fa6fcde-c9c3-4b26-8ab5-f2a5737ff25d"
      },
      "execution_count": 13,
      "outputs": [
        {
          "output_type": "stream",
          "name": "stdout",
          "text": [
            "+--------------+-----------+----------+--------------+-----------+\n",
            "|     review_id|customer_id|product_id|product_parent|review_date|\n",
            "+--------------+-----------+----------+--------------+-----------+\n",
            "|R11CE8T0KV1IE5|   18965311|B000QOH3BE|     866453817| 2015-02-22|\n",
            "|R11KHKHJDAFHJ3|   50103837|B004M6H6KU|     712448686| 2014-08-20|\n",
            "|R12S1H6UVOS5V2|   24001017|B0049SHD7C|     639030220| 2015-05-14|\n",
            "|R13LE3YHBB4QU2|   40411607|B00KJ1HHOM|     703536534| 2015-01-13|\n",
            "|R14BC0DRNOSSYB|   25105319|B000I1V302|     562172940| 2015-02-02|\n",
            "|R14EH6R2KZTAZ0|   21875358|B0043095WW|     150530338| 2013-06-05|\n",
            "|R14FR8B60J149I|   50766554|B005I72LMU|     329693531| 2013-01-24|\n",
            "|R14PVEHRI5QIFP|   21087900|B008EQ1KB0|     443123829| 2013-11-19|\n",
            "|R155B9OAXQGQJF|   12356909|B002DUCCDS|     371066242| 2014-06-10|\n",
            "|R15JZHODZ21SBN|   32972565|B004WSJU8O|     889893533| 2014-02-14|\n",
            "|R16UH5V9H7UBR2|    8653119|B005RRBMR6|     446038419| 2013-08-10|\n",
            "|R18BP1BXJXRX9H|   43392959|B00EPEALEM|     403561784| 2015-02-02|\n",
            "|R18KK92SF181GG|   34178701|B004QRPY5E|     781215937| 2013-10-13|\n",
            "|R1ATEDPU3SNTV9|   38004353|B0000DC64L|     903713667| 2014-10-24|\n",
            "|R1B0UQBYNK7ORT|   52758672|B006OCS5ZU|     803913507| 2014-12-29|\n",
            "|R1BBC5L6XNNNOS|   46002548|B0007Q3DPQ|     275425233| 2009-08-23|\n",
            "|  R1C1G419PSEM|   18969203|B0028RXDFM|     761792256| 2015-08-19|\n",
            "|R1CVZ2GGU6579O|   43135998|B005Z4935O|     203623203| 2014-06-02|\n",
            "|R1D7NOXGNALDY7|   47936776|B000GTR2F6|     669109824| 2009-01-22|\n",
            "|R1DWKE9UKZBKPZ|   16671800|B000WEOO4M|     234308320| 2013-09-04|\n",
            "+--------------+-----------+----------+--------------+-----------+\n",
            "only showing top 20 rows\n",
            "\n"
          ]
        }
      ]
    },
    {
      "cell_type": "code",
      "source": [
        "products_df = kitchen_df.select([\"product_id\",\"product_title\"])\n",
        "products_df = products_df.dropDuplicates()\n",
        "products_df = products_df.dropna()\n",
        "\n",
        "products_df.show()"
      ],
      "metadata": {
        "colab": {
          "base_uri": "https://localhost:8080/"
        },
        "id": "HTUPBDBa4JcL",
        "outputId": "2c4287ad-8e60-499f-fb55-c88fef5bed71"
      },
      "execution_count": 14,
      "outputs": [
        {
          "output_type": "stream",
          "name": "stdout",
          "text": [
            "+----------+--------------------+\n",
            "|product_id|       product_title|\n",
            "+----------+--------------------+\n",
            "|B00004W499|George Foreman GG...|\n",
            "|B00004S9EJ|Cuisinart DLC-8SY...|\n",
            "|B000T7C32C|Westmark Multi Pu...|\n",
            "|B00JP9AX6I|Natizo Ultra Shar...|\n",
            "|B000HMC5MM|HIC 18/8 Stainles...|\n",
            "|B00O18LHJU|Chillin' Cubes - ...|\n",
            "|B00COM0AX4|Arctic Chill Sili...|\n",
            "|B00FDWENCQ|New Star Foodserv...|\n",
            "|B008YS1YQO|George Foreman Grill|\n",
            "|B00ABEKGWM|ITI GX8918 36-Pie...|\n",
            "|B003IPA126|Epicurean Gourmet...|\n",
            "|B005ZFYMHM|Tupperware Classi...|\n",
            "|B00GF5RW8M|Delirium Tremens ...|\n",
            "|B000Q945FG|BIA Cordon Bleu B...|\n",
            "|B0084DZ55U|Wildkin Double De...|\n",
            "|B0016OZPEK|Lausanne Flatware...|\n",
            "|B000F7FXO6|Pink stoneware Sa...|\n",
            "|B00069TKPG|Gourmet Standard ...|\n",
            "|B007XEY6AQ|Welcome Home Bran...|\n",
            "|B00D19SSE2|Ozeri Serafino Do...|\n",
            "+----------+--------------------+\n",
            "only showing top 20 rows\n",
            "\n"
          ]
        }
      ]
    },
    {
      "cell_type": "code",
      "source": [
        "customer_id = kitchen_df.groupby(\"customer_id\")\\\n",
        "              .agg({\"customer_id\": \"count\"})\\\n",
        "              .withColumnRenamed(\"count(customer_id)\", \"customer_count\")\n",
        "customer_id = customer_id.dropDuplicates()\n",
        "customer_id = customer_id.dropna()\n",
        "\n",
        "customer_id.show()"
      ],
      "metadata": {
        "colab": {
          "base_uri": "https://localhost:8080/"
        },
        "id": "OgPuaDUy8wvo",
        "outputId": "135a5b60-cf6d-439b-e757-3b74f32fa39f"
      },
      "execution_count": 15,
      "outputs": [
        {
          "output_type": "stream",
          "name": "stdout",
          "text": [
            "+-----------+--------------+\n",
            "|customer_id|customer_count|\n",
            "+-----------+--------------+\n",
            "|   43783816|             1|\n",
            "|   12901154|             2|\n",
            "|   44367888|             1|\n",
            "|   16477908|             2|\n",
            "|   50187791|             1|\n",
            "|   26181316|             4|\n",
            "|   23901527|             2|\n",
            "|   20249496|             2|\n",
            "|   38515795|             5|\n",
            "|   46891757|            46|\n",
            "|   24803411|             3|\n",
            "|   49781768|             3|\n",
            "|   26893320|             6|\n",
            "|   16150370|             6|\n",
            "|   16175511|             1|\n",
            "|   37448961|             1|\n",
            "|   45067021|             2|\n",
            "|   52129256|             3|\n",
            "|   18693314|             2|\n",
            "|   29811841|             5|\n",
            "+-----------+--------------+\n",
            "only showing top 20 rows\n",
            "\n"
          ]
        }
      ]
    },
    {
      "cell_type": "code",
      "source": [
        "columns = ['review_id', 'star_rating', 'helpful_votes', 'total_votes', 'vine']\n",
        "vine_table = kitchen_df[[columns]]\n",
        "vine_table.show()"
      ],
      "metadata": {
        "colab": {
          "base_uri": "https://localhost:8080/"
        },
        "id": "QaoIRf1U9Znb",
        "outputId": "f922376f-5f20-4c7e-bb87-bcbe4e0d599f"
      },
      "execution_count": 16,
      "outputs": [
        {
          "output_type": "stream",
          "name": "stdout",
          "text": [
            "+--------------+-----------+-------------+-----------+----+\n",
            "|     review_id|star_rating|helpful_votes|total_votes|vine|\n",
            "+--------------+-----------+-------------+-----------+----+\n",
            "|R1000CEJZ30MZL|          5|            1|          2|   N|\n",
            "|R1002JK1OHHXGG|          5|            0|          0|   N|\n",
            "|R1009JT567AOTT|          5|            0|          0|   N|\n",
            "|R100JHAIKOMBJ4|          5|            0|          0|   N|\n",
            "|R100O6XRNI9JAX|          5|            0|          0|   N|\n",
            "|R1016UE48A9251|          5|            0|          0|   N|\n",
            "|R101KPEKO5N1W1|          1|            4|          5|   N|\n",
            "|R101OQXQGSMXHH|          5|            1|          1|   N|\n",
            "|R102B4GU1FQEEJ|          2|            3|          5|   N|\n",
            "|R102JNT9WAJUR7|          3|            0|          0|   N|\n",
            "|R102KC6UDNXSL2|          4|            0|          0|   N|\n",
            "|R102PBYHO9GEWG|          1|            1|          1|   N|\n",
            "|R102WONDOPEYS4|          5|            0|          0|   N|\n",
            "|R102XXBV8QY381|          5|            1|          2|   N|\n",
            "|R102ZH4SOAWO8K|          4|            0|          0|   N|\n",
            "|R102ZTUXAB8C2B|          5|            0|          0|   N|\n",
            "|R1039GQJDOR3OP|          5|            0|          0|   N|\n",
            "|R103B9RPEUSXZH|          4|            0|          0|   Y|\n",
            "|R103H3L1TSF4MJ|          5|            2|          2|   N|\n",
            "|R103LMVV5XY7IM|          5|            1|          1|   N|\n",
            "+--------------+-----------+-------------+-----------+----+\n",
            "only showing top 20 rows\n",
            "\n"
          ]
        }
      ]
    }
  ]
}